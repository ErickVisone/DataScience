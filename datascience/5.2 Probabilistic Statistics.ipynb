{
 "cells": [
  {
   "cell_type": "code",
   "execution_count": 1,
   "id": "6b944846",
   "metadata": {},
   "outputs": [],
   "source": [
    "import pandas as pd\n",
    "import matplotlib.pyplot as plt\n",
    "import seaborn as sns\n",
    "from auxiliary import *\n",
    "import numpy as np\n",
    "import scipy "
   ]
  },
  {
   "cell_type": "code",
   "execution_count": 2,
   "id": "463b6110",
   "metadata": {},
   "outputs": [],
   "source": [
    "#Basic Concepts\n",
    "rng = np.random.default_rng(42)\n",
    "\n",
    "dados = rng.integers(1,7, size = 1_000_000)"
   ]
  },
  {
   "cell_type": "code",
   "execution_count": 3,
   "id": "94c6ffe1",
   "metadata": {},
   "outputs": [
    {
     "data": {
      "text/plain": [
       "array([1, 5, 4, ..., 6, 1, 1])"
      ]
     },
     "execution_count": 3,
     "metadata": {},
     "output_type": "execute_result"
    }
   ],
   "source": [
    "dados"
   ]
  },
  {
   "cell_type": "code",
   "execution_count": 4,
   "id": "0c77040a",
   "metadata": {},
   "outputs": [
    {
     "data": {
      "text/plain": [
       "1    166904\n",
       "2    166781\n",
       "3    166479\n",
       "4    167184\n",
       "5    166423\n",
       "6    166229\n",
       "Name: count, dtype: int64"
      ]
     },
     "execution_count": 4,
     "metadata": {},
     "output_type": "execute_result"
    }
   ],
   "source": [
    "pd.Series(dados).value_counts().sort_index()"
   ]
  },
  {
   "cell_type": "code",
   "execution_count": 5,
   "id": "570a9c5b",
   "metadata": {},
   "outputs": [
    {
     "name": "stdout",
     "output_type": "stream",
     "text": [
      "[1 2 3 4 5 6]\n",
      "[166904 166781 166479 167184 166423 166229]\n"
     ]
    }
   ],
   "source": [
    "values, count = np.unique(dados, return_counts=True)\n",
    "\n",
    "print(values)\n",
    "print(count)"
   ]
  },
  {
   "cell_type": "code",
   "execution_count": 6,
   "id": "744135c8",
   "metadata": {},
   "outputs": [
    {
     "data": {
      "image/png": "[encoded data removed]",
      "text/plain": [
       "<Figure size 640x480 with 1 Axes>"
      ]
     },
     "metadata": {},
     "output_type": "display_data"
    }
   ],
   "source": [
    "plt.vlines(values, 0, count, linewidth=1, linestyles='dotted')\n",
    "plt.scatter(values, count)\n",
    "plt.show()"
   ]
  },
  {
   "cell_type": "code",
   "execution_count": 7,
   "id": "b279ed4c",
   "metadata": {},
   "outputs": [],
   "source": [
    "# The probability of rolling a 1 is 1/6, and the probability of rolling a 2 is also 1/6, and so on.\n",
    "# The probability of not rolling a 1 is 5/6.\n",
    "# p + q = 1\n",
    "# p = 1/6"
   ]
  },
  {
   "cell_type": "markdown",
   "id": "da8db53c",
   "metadata": {},
   "source": [
    "## Type of Events"
   ]
  },
  {
   "cell_type": "code",
   "execution_count": 8,
   "id": "73e3f7b9",
   "metadata": {},
   "outputs": [],
   "source": [
    "# Dependent events or independent events?\n",
    "# E/And = *\n",
    "# Independent events\n",
    "# The probability of rolling a 1 on the first roll and a 1 on the second roll is (1/6) * (1/6) = 1/36.\n",
    "\n",
    "# Dependent events\n",
    "# OU/ Or = +\n",
    "# Mutually exclusive events\n",
    "# The probability of rolling a 1 or a 2 is (1/6) + (1/6) = 2/6 = 1/3."
   ]
  },
  {
   "cell_type": "markdown",
   "id": "808bfab5",
   "metadata": {},
   "source": [
    "## Probability Distribution"
   ]
  },
  {
   "cell_type": "code",
   "execution_count": 9,
   "id": "e094b5e1",
   "metadata": {},
   "outputs": [],
   "source": [
    "# Types of variables\n",
    "# Discrete ramdom variables, only assume integer values.\n",
    "#eg. Number of passengers in a bus, number of children in a family, number of cars in a parking lot.\n",
    "\n",
    "# Continuous random variables, assume any value in a given interval.\n",
    "#eg. Height of a person, weight of a person, temperature in a city."
   ]
  },
  {
   "cell_type": "code",
   "execution_count": 10,
   "id": "3a0b4df5",
   "metadata": {},
   "outputs": [
    {
     "data": {
      "text/html": [
       "<div>\n",
       "<style scoped>\n",
       "    .dataframe tbody tr th:only-of-type {\n",
       "        vertical-align: middle;\n",
       "    }\n",
       "\n",
       "    .dataframe tbody tr th {\n",
       "        vertical-align: top;\n",
       "    }\n",
       "\n",
       "    .dataframe thead th {\n",
       "        text-align: right;\n",
       "    }\n",
       "</style>\n",
       "<table border=\"1\" class=\"dataframe\">\n",
       "  <thead>\n",
       "    <tr style=\"text-align: right;\">\n",
       "      <th></th>\n",
       "      <th>accidents</th>\n",
       "      <th>frequency</th>\n",
       "    </tr>\n",
       "  </thead>\n",
       "  <tbody>\n",
       "    <tr>\n",
       "      <th>0</th>\n",
       "      <td>0</td>\n",
       "      <td>22</td>\n",
       "    </tr>\n",
       "    <tr>\n",
       "      <th>1</th>\n",
       "      <td>1</td>\n",
       "      <td>5</td>\n",
       "    </tr>\n",
       "    <tr>\n",
       "      <th>2</th>\n",
       "      <td>2</td>\n",
       "      <td>2</td>\n",
       "    </tr>\n",
       "    <tr>\n",
       "      <th>3</th>\n",
       "      <td>3</td>\n",
       "      <td>1</td>\n",
       "    </tr>\n",
       "  </tbody>\n",
       "</table>\n",
       "</div>"
      ],
      "text/plain": [
       "   accidents  frequency\n",
       "0          0         22\n",
       "1          1          5\n",
       "2          2          2\n",
       "3          3          1"
      ]
     },
     "execution_count": 10,
     "metadata": {},
     "output_type": "execute_result"
    }
   ],
   "source": [
    "df_accidents = pd.DataFrame(\n",
    "    {\n",
    "        'accidents': [0,1,2,3],\n",
    "        'frequency': [22,5,2,1]\n",
    "    }\n",
    ")\n",
    "\n",
    "df_accidents"
   ]
  },
  {
   "cell_type": "code",
   "execution_count": 11,
   "id": "9a374025",
   "metadata": {},
   "outputs": [
    {
     "data": {
      "text/html": [
       "<div>\n",
       "<style scoped>\n",
       "    .dataframe tbody tr th:only-of-type {\n",
       "        vertical-align: middle;\n",
       "    }\n",
       "\n",
       "    .dataframe tbody tr th {\n",
       "        vertical-align: top;\n",
       "    }\n",
       "\n",
       "    .dataframe thead th {\n",
       "        text-align: right;\n",
       "    }\n",
       "</style>\n",
       "<table border=\"1\" class=\"dataframe\">\n",
       "  <thead>\n",
       "    <tr style=\"text-align: right;\">\n",
       "      <th></th>\n",
       "      <th>accidents</th>\n",
       "      <th>frequency</th>\n",
       "      <th>p_not_accident</th>\n",
       "    </tr>\n",
       "  </thead>\n",
       "  <tbody>\n",
       "    <tr>\n",
       "      <th>0</th>\n",
       "      <td>0</td>\n",
       "      <td>22</td>\n",
       "      <td>0.733333</td>\n",
       "    </tr>\n",
       "    <tr>\n",
       "      <th>1</th>\n",
       "      <td>1</td>\n",
       "      <td>5</td>\n",
       "      <td>0.166667</td>\n",
       "    </tr>\n",
       "    <tr>\n",
       "      <th>2</th>\n",
       "      <td>2</td>\n",
       "      <td>2</td>\n",
       "      <td>0.066667</td>\n",
       "    </tr>\n",
       "    <tr>\n",
       "      <th>3</th>\n",
       "      <td>3</td>\n",
       "      <td>1</td>\n",
       "      <td>0.033333</td>\n",
       "    </tr>\n",
       "  </tbody>\n",
       "</table>\n",
       "</div>"
      ],
      "text/plain": [
       "   accidents  frequency  p_not_accident\n",
       "0          0         22        0.733333\n",
       "1          1          5        0.166667\n",
       "2          2          2        0.066667\n",
       "3          3          1        0.033333"
      ]
     },
     "execution_count": 11,
     "metadata": {},
     "output_type": "execute_result"
    }
   ],
   "source": [
    "# Probability of not getting into an accident\n",
    "df_accidents['p_not_accident'] = df_accidents['frequency'] / df_accidents['frequency'].sum()\n",
    "\n",
    "df_accidents"
   ]
  },
  {
   "cell_type": "code",
   "execution_count": 12,
   "id": "167b5759",
   "metadata": {},
   "outputs": [
    {
     "data": {
      "text/plain": [
       "np.float64(0.9999999999999999)"
      ]
     },
     "execution_count": 12,
     "metadata": {},
     "output_type": "execute_result"
    }
   ],
   "source": [
    "df_accidents['p_not_accident'].sum()"
   ]
  },
  {
   "cell_type": "markdown",
   "id": "3d78c0c6",
   "metadata": {},
   "source": [
    "## Probability - Discrete Variables"
   ]
  },
  {
   "cell_type": "code",
   "execution_count": 13,
   "id": "4a09732c",
   "metadata": {},
   "outputs": [
    {
     "data": {
      "text/plain": [
       "array([4, 5, 3, 5, 5, 2, 3, 3, 3, 5, 4, 3, 6, 5, 2, 4, 6, 6, 2, 4, 5, 1,\n",
       "       4, 2, 6, 5, 4, 1, 1, 3, 3, 2, 4, 4, 6, 6, 6, 3, 4, 4, 1, 3, 5, 3,\n",
       "       5, 1, 2, 4, 1, 4, 6, 2, 2, 1, 2, 5, 2, 4, 4, 4, 4, 5, 3, 6, 1, 4,\n",
       "       2, 4, 2, 6, 6, 6, 2, 4, 6, 5, 2, 2, 4, 2, 2, 6, 4, 6, 6, 4, 1, 6,\n",
       "       5, 5, 2, 5, 2, 1, 4, 4, 4, 5, 1, 5])"
      ]
     },
     "execution_count": 13,
     "metadata": {},
     "output_type": "execute_result"
    }
   ],
   "source": [
    "#Uniform distribution\n",
    "# The uniform distribution is a continuous probability distribution that has constant probability.\n",
    "from scipy.stats import randint\n",
    "\n",
    "dice = randint.rvs(1, 7, size=100, random_state=42)\n",
    "dice"
   ]
  },
  {
   "cell_type": "code",
   "execution_count": 14,
   "id": "cad6e82d",
   "metadata": {},
   "outputs": [
    {
     "data": {
      "text/plain": [
       "numpy.ndarray"
      ]
     },
     "execution_count": 14,
     "metadata": {},
     "output_type": "execute_result"
    }
   ],
   "source": [
    "type(dice)"
   ]
  },
  {
   "cell_type": "code",
   "execution_count": 15,
   "id": "c9ebe3f8",
   "metadata": {},
   "outputs": [
    {
     "name": "stdout",
     "output_type": "stream",
     "text": [
      "[1 2 3 4 5 6]\n",
      "[11 19 11 25 17 17]\n"
     ]
    },
    {
     "data": {
      "image/png": "[encoded data removed]",
      "text/plain": [
       "<Figure size 640x480 with 1 Axes>"
      ]
     },
     "metadata": {},
     "output_type": "display_data"
    }
   ],
   "source": [
    "values, count = np.unique(dice, return_counts=True)\n",
    "print(values)\n",
    "print(count)\n",
    "\n",
    "plt.vlines(values, 0, count, linewidth=1, linestyles='dotted')\n",
    "plt.scatter(values, count, marker='o', color='red')\n",
    "plt.show()"
   ]
  },
  {
   "cell_type": "code",
   "execution_count": 16,
   "id": "a73b89a6",
   "metadata": {},
   "outputs": [
    {
     "name": "stdout",
     "output_type": "stream",
     "text": [
      "(np.int64(1), np.float64(0.16666666666666666))\n",
      "(np.int64(2), np.float64(0.16666666666666666))\n",
      "(np.int64(3), np.float64(0.16666666666666666))\n",
      "(np.int64(4), np.float64(0.16666666666666666))\n",
      "(np.int64(5), np.float64(0.16666666666666666))\n",
      "(np.int64(6), np.float64(0.16666666666666666))\n"
     ]
    }
   ],
   "source": [
    "#pmf = probability mass function - Probability of a discrete random variable\n",
    "\n",
    "x = np.arange(1, 7)\n",
    "y = randint.pmf(x, 1, 7)\n",
    "\n",
    "#y\n",
    "print(*tuple(zip(x,y)), sep='\\n')"
   ]
  },
  {
   "cell_type": "code",
   "execution_count": 17,
   "id": "a779081d",
   "metadata": {},
   "outputs": [
    {
     "name": "stdout",
     "output_type": "stream",
     "text": [
      "(np.int64(1), np.float64(0.16666666666666666))\n",
      "(np.int64(2), np.float64(0.3333333333333333))\n",
      "(np.int64(3), np.float64(0.5))\n",
      "(np.int64(4), np.float64(0.6666666666666666))\n",
      "(np.int64(5), np.float64(0.8333333333333334))\n",
      "(np.int64(6), np.float64(1.0))\n"
     ]
    }
   ],
   "source": [
    "#cdf = cumulative distribution function - Probability of a discrete random variable\n",
    "x = np.arange(1, 7)\n",
    "y = randint.cdf(x, 1, 7)\n",
    "\n",
    "print(*tuple(zip(x,y)), sep='\\n')"
   ]
  },
  {
   "cell_type": "code",
   "execution_count": 18,
   "id": "53f01163",
   "metadata": {},
   "outputs": [
    {
     "data": {
      "text/plain": [
       "np.float64(0.5)"
      ]
     },
     "execution_count": 18,
     "metadata": {},
     "output_type": "execute_result"
    }
   ],
   "source": [
    "randint.cdf(3, 1, 7) # Probability of rolling a 1"
   ]
  },
  {
   "cell_type": "code",
   "execution_count": 19,
   "id": "8bd644d7",
   "metadata": {},
   "outputs": [
    {
     "data": {
      "text/plain": [
       "np.float64(3.0)"
      ]
     },
     "execution_count": 19,
     "metadata": {},
     "output_type": "execute_result"
    }
   ],
   "source": [
    "#ppf = percent point function - Inverse of the cdf\n",
    "randint.ppf(0.5, 1, 7) # Probability of rolling a 1"
   ]
  },
  {
   "cell_type": "markdown",
   "id": "9acb2193",
   "metadata": {},
   "source": [
    "## Discrete Variable Probability Distribution"
   ]
  },
  {
   "cell_type": "code",
   "execution_count": 21,
   "id": "c82e0a36",
   "metadata": {},
   "outputs": [
    {
     "data": {
      "text/plain": [
       "array([4])"
      ]
     },
     "execution_count": 21,
     "metadata": {},
     "output_type": "execute_result"
    }
   ],
   "source": [
    "from scipy.stats import binom\n",
    "# Binomial distribution\n",
    "# 1 experiment * 10 trials\n",
    "currency = binom.rvs(\n",
    "    10                  # Number of trials\n",
    "    , 0.5               # Probability of success\n",
    "    , size=1            # Number of experiments\n",
    "    , random_state=42   # Random state\n",
    ")\n",
    "\n",
    "\n",
    "currency"
   ]
  },
  {
   "cell_type": "code",
   "execution_count": null,
   "id": "d04d387e",
   "metadata": {},
   "outputs": [
    {
     "data": {
      "text/plain": [
       "0.205078125"
      ]
     },
     "execution_count": 22,
     "metadata": {},
     "output_type": "execute_result"
    }
   ],
   "source": [
    "# Manual calculation\n",
    "import math\n",
    "\n",
    "math.factorial(10) / (math.factorial(4) * math.factorial(10 - 4)) * 0.5 ** 4 * ( 1 - 0.5) ** (10 - 4)"
   ]
  },
  {
   "cell_type": "code",
   "execution_count": 25,
   "id": "29810c4d",
   "metadata": {},
   "outputs": [
    {
     "name": "stdout",
     "output_type": "stream",
     "text": [
      "[ 0  1  2  3  4  5  6  7  8  9 10]\n",
      "[  1000   9716  43515 117067 205347 245968 205493 116929  44218   9768\n",
      "    979]\n"
     ]
    },
    {
     "data": {
      "image/png": "[encoded data removed]",
      "text/plain": [
       "<Figure size 640x480 with 1 Axes>"
      ]
     },
     "metadata": {},
     "output_type": "display_data"
    }
   ],
   "source": [
    "import matplotlib.pyplot as plt\n",
    "import numpy as np\n",
    "\n",
    "currency_trials = binom.rvs(\n",
    "    10                  # Number of trials\n",
    "    , 0.5               # Probability of success\n",
    "    , size=1_000_000            # Number of experiments\n",
    "    , random_state=42   # Random state\n",
    ")\n",
    "\n",
    "values, count = np.unique(currency_trials, return_counts=True)\n",
    "\n",
    "print(values)\n",
    "print(count)\n",
    "\n",
    "plt.vlines(values, 0, count, linewidth=1, linestyles='dotted')\n",
    "plt.scatter(values, count, marker='o', color='red')\n",
    "\n",
    "plt.show()"
   ]
  },
  {
   "cell_type": "code",
   "execution_count": 26,
   "id": "10d947ff",
   "metadata": {},
   "outputs": [
    {
     "name": "stdout",
     "output_type": "stream",
     "text": [
      "(np.int64(0), np.float64(0.000976562499999999))\n",
      "(np.int64(1), np.float64(0.009765625000000003))\n",
      "(np.int64(2), np.float64(0.04394531250000005))\n",
      "(np.int64(3), np.float64(0.11718749999999999))\n",
      "(np.int64(4), np.float64(0.2050781249999999))\n",
      "(np.int64(5), np.float64(0.24609375))\n",
      "(np.int64(6), np.float64(0.2050781249999999))\n",
      "(np.int64(7), np.float64(0.11718749999999996))\n",
      "(np.int64(8), np.float64(0.04394531250000005))\n",
      "(np.int64(9), np.float64(0.009765625000000003))\n",
      "(np.int64(10), np.float64(0.0009765625))\n"
     ]
    }
   ],
   "source": [
    "# Automated calculation\n",
    "x = np.arange(0, 11)\n",
    "y = binom.pmf(x, 10, 0.5)\n",
    "print(*tuple(zip(x,y)), sep='\\n')"
   ]
  },
  {
   "cell_type": "code",
   "execution_count": 27,
   "id": "7296a4e0",
   "metadata": {},
   "outputs": [],
   "source": [
    "## Need to get the function from the class in order to plot the graph\n",
    "\n",
    "\n",
    "# Parei na 11, mas preciso revisar da 8 para frente eu acho"
   ]
  }
 ],
 "metadata": {
  "kernelspec": {
   "display_name": "Python 3",
   "language": "python",
   "name": "python3"
  },
  "language_info": {
   "codemirror_mode": {
    "name": "ipython",
    "version": 3
   },
   "file_extension": ".py",
   "mimetype": "text/x-python",
   "name": "python",
   "nbconvert_exporter": "python",
   "pygments_lexer": "ipython3",
   "version": "3.12.7"
  }
 },
 "nbformat": 4,
 "nbformat_minor": 5
}
